{
 "cells": [
  {
   "cell_type": "code",
   "execution_count": 46,
   "id": "6e1f19f9-3563-4258-9237-0515dde112bf",
   "metadata": {},
   "outputs": [],
   "source": [
    "import requests, json\n",
    "from PIL import Image, ImageEnhance"
   ]
  },
  {
   "cell_type": "code",
   "execution_count": 3,
   "id": "28f12dfa-f479-482e-a158-4f09f9753a39",
   "metadata": {},
   "outputs": [
    {
     "name": "stdout",
     "output_type": "stream",
     "text": [
      "{\n",
      "  \"name\": \"Pillhead #1\",\n",
      "  \"image\": \"https://arweave.net/pUhU4MPttO2TtfR1jQTKloL2QtwJcDiDVP9Tr7L3b0Y/1.png\",\n",
      "  \"attributes\": [\n",
      "    {\n",
      "      \"trait_type\": \"Props\",\n",
      "      \"value\": \"None\"\n",
      "    },\n",
      "    {\n",
      "      \"trait_type\": \"Gear\",\n",
      "      \"value\": \"Cricket Bat\"\n",
      "    },\n",
      "    {\n",
      "      \"trait_type\": \"Extras\",\n",
      "      \"value\": \"None\"\n",
      "    },\n",
      "    {\n",
      "      \"trait_type\": \"Head\",\n",
      "      \"value\": \"Bucket (Camo)\"\n",
      "    },\n",
      "    {\n",
      "      \"trait_type\": \"Eyewear\",\n",
      "      \"value\": \"Glasses (Round)\"\n",
      "    },\n",
      "    {\n",
      "      \"trait_type\": \"Outer\",\n",
      "      \"value\": \"Zipped Hoodie\"\n",
      "    },\n",
      "    {\n",
      "      \"trait_type\": \"Inner\",\n",
      "      \"value\": \"Tank\"\n",
      "    },\n",
      "    {\n",
      "      \"trait_type\": \"Mouth\",\n",
      "      \"value\": \"Pipe\"\n",
      "    },\n",
      "    {\n",
      "      \"trait_type\": \"Face\",\n",
      "      \"value\": \"Los Muertos\"\n",
      "    },\n",
      "    {\n",
      "      \"trait_type\": \"Class\",\n",
      "      \"value\": \"Hollow\"\n",
      "    },\n",
      "    {\n",
      "      \"trait_type\": \"Background\",\n",
      "      \"value\": \"Graphite\"\n",
      "    }\n",
      "  ],\n",
      "  \"id\": 1\n",
      "}\n"
     ]
    }
   ],
   "source": [
    "url = requests.get(\"https://35bpdkoayix34h3dfi4wqoz3xlt2mvbibaxjqk76uyszbbmdxjqq.arweave.net/30LxqcDCL74fYyo5aDs7uuemVCgILpgr_qYlkIWDumE/1.json\")\n",
    "text = url.text\n",
    "print(text)"
   ]
  },
  {
   "cell_type": "code",
   "execution_count": 6,
   "id": "8310f824-0ad9-4092-8a18-556e47b0697b",
   "metadata": {},
   "outputs": [
    {
     "ename": "TypeError",
     "evalue": "string indices must be integers",
     "output_type": "error",
     "traceback": [
      "\u001b[1;31m---------------------------------------------------------------------------\u001b[0m",
      "\u001b[1;31mTypeError\u001b[0m                                 Traceback (most recent call last)",
      "\u001b[1;32m~\\AppData\\Local\\Temp\\ipykernel_25604\\1039092206.py\u001b[0m in \u001b[0;36m<module>\u001b[1;34m\u001b[0m\n\u001b[1;32m----> 1\u001b[1;33m \u001b[1;32mfor\u001b[0m \u001b[0mitem\u001b[0m \u001b[1;32min\u001b[0m \u001b[0mtext\u001b[0m\u001b[1;33m[\u001b[0m\u001b[1;34m\"attributes\"\u001b[0m\u001b[1;33m]\u001b[0m\u001b[1;33m:\u001b[0m\u001b[1;33m\u001b[0m\u001b[1;33m\u001b[0m\u001b[0m\n\u001b[0m\u001b[0;32m      2\u001b[0m     \u001b[0mprint\u001b[0m\u001b[1;33m(\u001b[0m\u001b[0mitem\u001b[0m\u001b[1;33m)\u001b[0m\u001b[1;33m\u001b[0m\u001b[1;33m\u001b[0m\u001b[0m\n",
      "\u001b[1;31mTypeError\u001b[0m: string indices must be integers"
     ]
    }
   ],
   "source": [
    "for item in text[\"attributes\"]:\n",
    "    print(item)"
   ]
  },
  {
   "cell_type": "code",
   "execution_count": 9,
   "id": "00b80151-dd0f-4ecc-81f4-5950ee88027a",
   "metadata": {},
   "outputs": [
    {
     "name": "stdout",
     "output_type": "stream",
     "text": [
      "0\n",
      "{'trait_type': 'Props', 'value': 'None'}\n",
      "1\n",
      "{'trait_type': 'Gear', 'value': 'Cricket Bat'}\n",
      "2\n",
      "{'trait_type': 'Extras', 'value': 'None'}\n",
      "3\n",
      "{'trait_type': 'Head', 'value': 'Bucket (Camo)'}\n",
      "4\n",
      "{'trait_type': 'Eyewear', 'value': 'Glasses (Round)'}\n",
      "5\n",
      "{'trait_type': 'Outer', 'value': 'Zipped Hoodie'}\n",
      "6\n",
      "{'trait_type': 'Inner', 'value': 'Tank'}\n",
      "7\n",
      "{'trait_type': 'Mouth', 'value': 'Pipe'}\n",
      "8\n",
      "{'trait_type': 'Face', 'value': 'Los Muertos'}\n",
      "9\n",
      "{'trait_type': 'Class', 'value': 'Hollow'}\n",
      "10\n",
      "{'trait_type': 'Background', 'value': 'Graphite'}\n"
     ]
    }
   ],
   "source": [
    "metadata = json.loads(text)\n",
    "\n",
    "for i,j  in enumerate(metadata[\"attributes\"]):\n",
    "    print(i)\n",
    "    print(j)"
   ]
  },
  {
   "cell_type": "code",
   "execution_count": 10,
   "id": "22a466e8-e9a2-427b-9018-6500a7c9373f",
   "metadata": {},
   "outputs": [
    {
     "data": {
      "text/plain": [
       "['01', '02', '03', '04', '05', '06', '07', '08', '09', '10', '11']"
      ]
     },
     "execution_count": 10,
     "metadata": {},
     "output_type": "execute_result"
    }
   ],
   "source": [
    "[\"{:02}\".format(num) for num in range(1,12)]"
   ]
  },
  {
   "cell_type": "code",
   "execution_count": 12,
   "id": "e0a63c35-9a54-4f33-a591-e13c7c4c1af8",
   "metadata": {},
   "outputs": [
    {
     "name": "stdout",
     "output_type": "stream",
     "text": [
      "01_Background\n",
      "02_Class\n",
      "03_Face\n",
      "04_Mouth\n",
      "05_Inner\n",
      "06_Outer\n",
      "07_Eyewear\n",
      "08_Head\n",
      "09_Extras\n",
      "10_Gear\n",
      "11_Props\n"
     ]
    }
   ],
   "source": [
    "for i in range(1,12):\n",
    "    file = \"{:02}\".format(i) + \"_\" + metadata[\"attributes\"][11-i][\"trait_type\"]\n",
    "    print(file)"
   ]
  },
  {
   "cell_type": "code",
   "execution_count": 23,
   "id": "9246280d-46ef-43f1-a682-8533c569622c",
   "metadata": {},
   "outputs": [
    {
     "name": "stdout",
     "output_type": "stream",
     "text": [
      "01_Background\n",
      "02_Class\n",
      "03_Props\n",
      "04_Face\n",
      "055_Body\n",
      "05_Inner\n",
      "06_Outer\n",
      "07_Extras\n",
      "08_Mouth\n",
      "09_Eyewear\n",
      "10_Head\n",
      "11_Gear\n"
     ]
    }
   ],
   "source": [
    "import os\n",
    "fpath='./Traits_completed/'\n",
    "layerpaths = os.listdir(fpath)\n",
    "for layerpath in layerpaths:\n",
    "    print(layerpath)\n",
    "    # layer = layerpath.split('_')[1]\n",
    "    # traitIndex = [ i for i, trait in enumerate(metadata[\"attributes\"]) if trait[\"trait_type\"] == layer]\n",
    "    # print(layerpath+\" / \"+metadata[\"attributes\"][traitIndex[0]][\"value\"])"
   ]
  },
  {
   "cell_type": "code",
   "execution_count": 5,
   "id": "038c18fd-04aa-471b-b584-e08ea6a198ee",
   "metadata": {},
   "outputs": [
    {
     "name": "stdout",
     "output_type": "stream",
     "text": [
      "{'name': 'Pillheads #0', 'image': '0.png', 'attributes': [{'trait_type': 'Props', 'value': 'None'}, {'trait_type': 'Gear', 'value': 'Cricket Bat'}, {'trait_type': 'Extras', 'value': 'None'}, {'trait_type': 'Head', 'value': 'Bucket (Camo A)'}, {'trait_type': 'Eyewear', 'value': 'Glasses (Orange Round)'}, {'trait_type': 'Outer', 'value': 'Zipped Hoodie (Blue)'}, {'trait_type': 'Inner', 'value': 'Tank neon'}, {'trait_type': 'Mouth', 'value': 'Pipe'}, {'trait_type': 'Face', 'value': 'Los Muertos Hollow'}, {'trait_type': 'Class', 'value': 'Hollow'}, {'trait_type': 'Background', 'value': 'Graphite'}], 'id': 0}\n"
     ]
    }
   ],
   "source": [
    "file = open('./metadata_new/0.json')\n",
    "metadata = json.load(file)\n",
    "print(metadata)"
   ]
  },
  {
   "cell_type": "code",
   "execution_count": 38,
   "id": "6c7cd057-fa90-4778-b053-522adc9ee5e3",
   "metadata": {},
   "outputs": [],
   "source": [
    "from progress.bar import Bar\n",
    "\n",
    "\n",
    "metadata_files = os.listdir('./metadata_new/')\n",
    "layerpaths = os.listdir('./Traits_completed/')\n",
    "bar = Bar('Processing', max=6655)\n",
    "for j in range(6655):\n",
    "    file = open('./metadata_new/'+str(j)+'.json')\n",
    "    metadata = json.load(file)\n",
    "    attributes = metadata['attributes']\n",
    "    layers = []\n",
    "    for i, layerpath in enumerate(layerpaths):\n",
    "        layers.append([])\n",
    "        layer = layerpath.split('_')[1]\n",
    "        if(i!=4):\n",
    "            traitIndex = [i for i, trait in enumerate(attributes) if trait[\"trait_type\"] == layer]\n",
    "            traitFile = attributes[traitIndex[0]][\"value\"]\n",
    "            traitPath = \"./Traits_completed/\"+layerpath + \"/\"+traitFile+\".png\"\n",
    "        elif(i==4):\n",
    "            traitPath = \"./Traits_completed/055_Body/Body.png\"         \n",
    "        layers[i]=Image.open(traitPath).convert('RGBA')\n",
    "\n",
    "    if len(layers) == 1:\n",
    "      rgb_im = layers[0].convert('RGBA')\n",
    "      file_name = metadata[\"image\"]\n",
    "      rgb_im.save(\"./images/\" + file_name)\n",
    "    elif len(layers) == 2:\n",
    "      main_composite = Image.alpha_composite(layers[0], layers[1])\n",
    "      rgb_im = main_composite.convert('RGBA')\n",
    "      file_name = metadata[\"image\"]\n",
    "      rgb_im.save(\"./images/\" + file_name)\n",
    "    elif len(layers) >= 3:\n",
    "      main_composite = Image.alpha_composite(layers[0], layers[1])\n",
    "      layers.pop(0)\n",
    "      layers.pop(0)\n",
    "      for index, remaining in enumerate(layers):\n",
    "        main_composite = Image.alpha_composite(main_composite, remaining)\n",
    "      rgb_im = main_composite.convert('RGBA')\n",
    "      file_name = metadata[\"image\"]\n",
    "      rgb_im.save(\"./images/\" + file_name)\n",
    "    bar.next()\n",
    "    \n",
    "bar.finish()"
   ]
  },
  {
   "cell_type": "code",
   "execution_count": 54,
   "id": "7abd797f-9cf4-4ffe-ab08-26068394836d",
   "metadata": {},
   "outputs": [],
   "source": [
    "metadata_files = os.listdir('./metadata_new/')\n",
    "layerpaths = os.listdir('./Traits_completed/')\n",
    "for j in range(6655):\n",
    "    file = open('./metadata_new/'+str(j)+'.json')\n",
    "    metadata = json.load(file)\n",
    "    attributes = metadata['attributes']\n",
    "    layers = []\n",
    "    layerLoc = []\n",
    "    skip = False\n",
    "    for i, layerpath in enumerate(layerpaths):\n",
    "        layer = layerpath.split('_')[1]\n",
    "        if(i!=4):\n",
    "            traitIndex = [i for i, trait in enumerate(attributes) if trait[\"trait_type\"] == layer]\n",
    "            traitFile = attributes[traitIndex[0]][\"value\"]\n",
    "            if(layer==\"Gear\" and not traitFile.startswith(\"Electric Guitar\")):\n",
    "                skip = True\n",
    "            traitPath = \"./Traits_completed/\"+layerpath + \"/\"+traitFile+\".png\"\n",
    "        elif(i==4):\n",
    "            traitPath = \"./Traits_completed/055_Body/Body.png\"\n",
    "        layerLoc.append([])    \n",
    "        layerLoc[i] = traitPath\n",
    "\n",
    "    if(not skip):\n",
    "        lastlayer = []\n",
    "        for i, path in enumerate(layerLoc):\n",
    "            layers.append([])\n",
    "            layers[i]=Image.open(path).convert('RGBA')\n",
    "            if(path.endswith(\"Scan.png\")):\n",
    "                alpha = layers[i].split()[3]\n",
    "                alpha = ImageEnhance.Brightness(alpha).enhance(0.5)\n",
    "                layers[i].putalpha(alpha)\n",
    "                lastlayer = layers[i]\n",
    "        # if len(layers) == 1:\n",
    "        #   rgb_im = layers[0].convert('RGBA')\n",
    "        #   file_name = metadata[\"image\"]\n",
    "        #   rgb_im.save(\"./images/\" + file_name)\n",
    "        #   rgb_im.save(\"./images2/\" + file_name)\n",
    "        # elif len(layers) == 2:\n",
    "        #   main_composite = Image.alpha_composite(layers[0], layers[1])\n",
    "        #   rgb_im = main_composite.convert('RGBA')\n",
    "        #   file_name = metadata[\"image\"]\n",
    "        #   rgb_im.save(\"./images/\" + file_name)\n",
    "        #   rgb_im.save(\"./images2/\" + file_name)\n",
    "        if len(layers) >= 3:\n",
    "          main_composite = Image.alpha_composite(layers[0], layers[1])\n",
    "          layers.pop(0)\n",
    "          layers.pop(0)\n",
    "          for index, remaining in enumerate(layers):\n",
    "            # if(index == 0):\n",
    "            #     lastLayer = remaining\n",
    "            #     continue\n",
    "            main_composite = Image.alpha_composite(main_composite, remaining)\n",
    "          if(lastlayer):\n",
    "              main_composite = Image.alpha_composite(main_composite, lastlayer)\n",
    "          rgb_im = main_composite.convert('RGBA')\n",
    "          file_name = metadata[\"image\"]\n",
    "          rgb_im.save(\"./images/\" + file_name)\n",
    "          rgb_im.save(\"./images3/\" + file_name)"
   ]
  },
  {
   "cell_type": "code",
   "execution_count": null,
   "id": "d4a2b6a3-46bb-4cd2-ba6e-b325b4100bfe",
   "metadata": {},
   "outputs": [],
   "source": []
  }
 ],
 "metadata": {
  "kernelspec": {
   "display_name": "imageProc",
   "language": "python",
   "name": "pixelart-5m1nrwrv"
  },
  "language_info": {
   "codemirror_mode": {
    "name": "ipython",
    "version": 3
   },
   "file_extension": ".py",
   "mimetype": "text/x-python",
   "name": "python",
   "nbconvert_exporter": "python",
   "pygments_lexer": "ipython3",
   "version": "3.10.4"
  }
 },
 "nbformat": 4,
 "nbformat_minor": 5
}
