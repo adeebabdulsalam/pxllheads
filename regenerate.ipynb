{
 "cells": [
  {
   "cell_type": "code",
   "execution_count": 1,
   "id": "6e1f19f9-3563-4258-9237-0515dde112bf",
   "metadata": {},
   "outputs": [],
   "source": [
    "import requests, json"
   ]
  },
  {
   "cell_type": "code",
   "execution_count": 3,
   "id": "28f12dfa-f479-482e-a158-4f09f9753a39",
   "metadata": {},
   "outputs": [
    {
     "name": "stdout",
     "output_type": "stream",
     "text": [
      "{\n",
      "  \"name\": \"Pillhead #1\",\n",
      "  \"image\": \"https://arweave.net/pUhU4MPttO2TtfR1jQTKloL2QtwJcDiDVP9Tr7L3b0Y/1.png\",\n",
      "  \"attributes\": [\n",
      "    {\n",
      "      \"trait_type\": \"Props\",\n",
      "      \"value\": \"None\"\n",
      "    },\n",
      "    {\n",
      "      \"trait_type\": \"Gear\",\n",
      "      \"value\": \"Cricket Bat\"\n",
      "    },\n",
      "    {\n",
      "      \"trait_type\": \"Extras\",\n",
      "      \"value\": \"None\"\n",
      "    },\n",
      "    {\n",
      "      \"trait_type\": \"Head\",\n",
      "      \"value\": \"Bucket (Camo)\"\n",
      "    },\n",
      "    {\n",
      "      \"trait_type\": \"Eyewear\",\n",
      "      \"value\": \"Glasses (Round)\"\n",
      "    },\n",
      "    {\n",
      "      \"trait_type\": \"Outer\",\n",
      "      \"value\": \"Zipped Hoodie\"\n",
      "    },\n",
      "    {\n",
      "      \"trait_type\": \"Inner\",\n",
      "      \"value\": \"Tank\"\n",
      "    },\n",
      "    {\n",
      "      \"trait_type\": \"Mouth\",\n",
      "      \"value\": \"Pipe\"\n",
      "    },\n",
      "    {\n",
      "      \"trait_type\": \"Face\",\n",
      "      \"value\": \"Los Muertos\"\n",
      "    },\n",
      "    {\n",
      "      \"trait_type\": \"Class\",\n",
      "      \"value\": \"Hollow\"\n",
      "    },\n",
      "    {\n",
      "      \"trait_type\": \"Background\",\n",
      "      \"value\": \"Graphite\"\n",
      "    }\n",
      "  ],\n",
      "  \"id\": 1\n",
      "}\n"
     ]
    }
   ],
   "source": [
    "url = requests.get(\"https://35bpdkoayix34h3dfi4wqoz3xlt2mvbibaxjqk76uyszbbmdxjqq.arweave.net/30LxqcDCL74fYyo5aDs7uuemVCgILpgr_qYlkIWDumE/1.json\")\n",
    "text = url.text\n",
    "print(text)"
   ]
  },
  {
   "cell_type": "code",
   "execution_count": 6,
   "id": "8310f824-0ad9-4092-8a18-556e47b0697b",
   "metadata": {},
   "outputs": [
    {
     "ename": "TypeError",
     "evalue": "string indices must be integers",
     "output_type": "error",
     "traceback": [
      "\u001b[1;31m---------------------------------------------------------------------------\u001b[0m",
      "\u001b[1;31mTypeError\u001b[0m                                 Traceback (most recent call last)",
      "\u001b[1;32m~\\AppData\\Local\\Temp\\ipykernel_25604\\1039092206.py\u001b[0m in \u001b[0;36m<module>\u001b[1;34m\u001b[0m\n\u001b[1;32m----> 1\u001b[1;33m \u001b[1;32mfor\u001b[0m \u001b[0mitem\u001b[0m \u001b[1;32min\u001b[0m \u001b[0mtext\u001b[0m\u001b[1;33m[\u001b[0m\u001b[1;34m\"attributes\"\u001b[0m\u001b[1;33m]\u001b[0m\u001b[1;33m:\u001b[0m\u001b[1;33m\u001b[0m\u001b[1;33m\u001b[0m\u001b[0m\n\u001b[0m\u001b[0;32m      2\u001b[0m     \u001b[0mprint\u001b[0m\u001b[1;33m(\u001b[0m\u001b[0mitem\u001b[0m\u001b[1;33m)\u001b[0m\u001b[1;33m\u001b[0m\u001b[1;33m\u001b[0m\u001b[0m\n",
      "\u001b[1;31mTypeError\u001b[0m: string indices must be integers"
     ]
    }
   ],
   "source": [
    "for item in text[\"attributes\"]:\n",
    "    print(item)"
   ]
  },
  {
   "cell_type": "code",
   "execution_count": 9,
   "id": "00b80151-dd0f-4ecc-81f4-5950ee88027a",
   "metadata": {},
   "outputs": [
    {
     "name": "stdout",
     "output_type": "stream",
     "text": [
      "0\n",
      "{'trait_type': 'Props', 'value': 'None'}\n",
      "1\n",
      "{'trait_type': 'Gear', 'value': 'Cricket Bat'}\n",
      "2\n",
      "{'trait_type': 'Extras', 'value': 'None'}\n",
      "3\n",
      "{'trait_type': 'Head', 'value': 'Bucket (Camo)'}\n",
      "4\n",
      "{'trait_type': 'Eyewear', 'value': 'Glasses (Round)'}\n",
      "5\n",
      "{'trait_type': 'Outer', 'value': 'Zipped Hoodie'}\n",
      "6\n",
      "{'trait_type': 'Inner', 'value': 'Tank'}\n",
      "7\n",
      "{'trait_type': 'Mouth', 'value': 'Pipe'}\n",
      "8\n",
      "{'trait_type': 'Face', 'value': 'Los Muertos'}\n",
      "9\n",
      "{'trait_type': 'Class', 'value': 'Hollow'}\n",
      "10\n",
      "{'trait_type': 'Background', 'value': 'Graphite'}\n"
     ]
    }
   ],
   "source": [
    "metadata = json.loads(text)\n",
    "\n",
    "for i,j  in enumerate(metadata[\"attributes\"]):\n",
    "    print(i)\n",
    "    print(j)"
   ]
  },
  {
   "cell_type": "code",
   "execution_count": 10,
   "id": "22a466e8-e9a2-427b-9018-6500a7c9373f",
   "metadata": {},
   "outputs": [
    {
     "data": {
      "text/plain": [
       "['01', '02', '03', '04', '05', '06', '07', '08', '09', '10', '11']"
      ]
     },
     "execution_count": 10,
     "metadata": {},
     "output_type": "execute_result"
    }
   ],
   "source": [
    "[\"{:02}\".format(num) for num in range(1,12)]"
   ]
  },
  {
   "cell_type": "code",
   "execution_count": 12,
   "id": "e0a63c35-9a54-4f33-a591-e13c7c4c1af8",
   "metadata": {},
   "outputs": [
    {
     "name": "stdout",
     "output_type": "stream",
     "text": [
      "01_Background\n",
      "02_Class\n",
      "03_Face\n",
      "04_Mouth\n",
      "05_Inner\n",
      "06_Outer\n",
      "07_Eyewear\n",
      "08_Head\n",
      "09_Extras\n",
      "10_Gear\n",
      "11_Props\n"
     ]
    }
   ],
   "source": [
    "for i in range(1,12):\n",
    "    file = \"{:02}\".format(i) + \"_\" + metadata[\"attributes\"][11-i][\"trait_type\"]\n",
    "    print(file)"
   ]
  },
  {
   "cell_type": "code",
   "execution_count": 29,
   "id": "9246280d-46ef-43f1-a682-8533c569622c",
   "metadata": {},
   "outputs": [
    {
     "name": "stdout",
     "output_type": "stream",
     "text": [
      "01_Background / Graphite\n",
      "02_Class / Hollow\n",
      "03_Props / None\n",
      "04_Face / Los Muertos\n",
      "05_Inner / Tank\n",
      "06_Outer / Zipped Hoodie\n",
      "07_Extras / None\n",
      "08_Mouth / Pipe\n",
      "09_Eyewear / Glasses (Round)\n",
      "10_Head / Bucket (Camo)\n",
      "11_Gear / Cricket Bat\n"
     ]
    }
   ],
   "source": [
    "import os\n",
    "fpath='./pxllheads/'\n",
    "layerpaths = os.listdir(fpath)\n",
    "for layerpath in layerpaths:\n",
    "    layer = layerpath.split('_')[1]\n",
    "    traitIndex = [ i for i, trait in enumerate(metadata[\"attributes\"]) if trait[\"trait_type\"] == layer]\n",
    "    print(layerpath+\" / \"+metadata[\"attributes\"][traitIndex[0]][\"value\"])"
   ]
  },
  {
   "cell_type": "code",
   "execution_count": null,
   "id": "038c18fd-04aa-471b-b584-e08ea6a198ee",
   "metadata": {},
   "outputs": [],
   "source": []
  }
 ],
 "metadata": {
  "kernelspec": {
   "display_name": "imageProc",
   "language": "python",
   "name": "pixelart-5m1nrwrv"
  },
  "language_info": {
   "codemirror_mode": {
    "name": "ipython",
    "version": 3
   },
   "file_extension": ".py",
   "mimetype": "text/x-python",
   "name": "python",
   "nbconvert_exporter": "python",
   "pygments_lexer": "ipython3",
   "version": "3.10.4"
  }
 },
 "nbformat": 4,
 "nbformat_minor": 5
}
