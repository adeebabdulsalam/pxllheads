{
 "cells": [
  {
   "cell_type": "code",
   "execution_count": 3,
   "id": "2ef87b1e-0ca6-4e1b-bb3b-b5e470d06c3d",
   "metadata": {},
   "outputs": [],
   "source": [
    "from collections import Counter\n",
    "from PIL import Image\n",
    "import argparse\n",
    "import random\n",
    "import json\n",
    "import os"
   ]
  },
  {
   "cell_type": "code",
   "execution_count": 8,
   "id": "245b8491-b13d-4682-a4d4-e2de728fec58",
   "metadata": {},
   "outputs": [],
   "source": [
    "import os\n",
    "import json\n",
    "\n",
    "def pathExists(dirPath):\n",
    "  return os.path.exists(dirPath)\n",
    "\n",
    "def loadJSON(path):\n",
    "  with open(path) as pathFile:\n",
    "    contents = json.loads(\"\".join(pathFile.readlines()))\n",
    "  return contents"
   ]
  },
  {
   "cell_type": "code",
   "execution_count": 9,
   "id": "65c9cfc6-d28d-40cd-af48-c0c5580d041f",
   "metadata": {},
   "outputs": [
    {
     "data": {
      "text/plain": [
       "0"
      ]
     },
     "execution_count": 9,
     "metadata": {},
     "output_type": "execute_result"
    }
   ],
   "source": [
    "os.system('cls' if os.name=='nt' else 'clear')"
   ]
  },
  {
   "cell_type": "code",
   "execution_count": 10,
   "id": "721f9086-80a2-406e-ba9c-692c3c96b177",
   "metadata": {},
   "outputs": [],
   "source": [
    "def create_new_image(all_images, config):\n",
    "    new_image = {}\n",
    "    for layer in config[\"layers\"]:\n",
    "      new_image[layer[\"name\"]] = random.choices(layer[\"values\"], layer[\"weights\"])[0]\n",
    "    \n",
    "    # check for incompatibilities\n",
    "    for incomp in config[\"incompatibilities\"]:\n",
    "      for attr in new_image:\n",
    "        if new_image[incomp[\"layer\"]] == incomp[\"value\"] and new_image[attr] in incomp[\"incompatible_with\"]:\n",
    "          \n",
    "          # if a default incompatibility value is set, use it instead\n",
    "          if \"default\" in incomp:\n",
    "            new_image[attr] = incomp[\"default\"][\"value\"]\n",
    "          else:\n",
    "            return create_new_image(all_images, config)\n",
    "\n",
    "    if new_image in all_images:\n",
    "      return create_new_image(all_images, config)\n",
    "    else:\n",
    "      return new_image"
   ]
  },
  {
   "cell_type": "code",
   "execution_count": 11,
   "id": "88813f32-e4ee-453b-b80c-cb296660e819",
   "metadata": {},
   "outputs": [],
   "source": [
    "def generate_unique_images(amount, config):\n",
    "  print(\"Generating {} unique NFTs...\".format(amount))\n",
    "  pad_amount = len(str(amount))\n",
    "  trait_files = {}\n",
    "  \n",
    "  # build trait dict\n",
    "  for trait in config[\"layers\"]:\n",
    "    trait_files[trait[\"name\"]] = {}\n",
    "    for x, key in enumerate(trait[\"values\"]):\n",
    "      trait_files[trait[\"name\"]][key] = trait[\"filename\"][x]\n",
    "    \n",
    "  for incomp in config[\"incompatibilities\"]:\n",
    "    if \"default\" in incomp:\n",
    "      for layer in trait_files:\n",
    "        trait_files[layer][incomp[\"default\"][\"value\"]] = incomp[\"default\"][\"filename\"]\n",
    "        \n",
    "  # generate n unique images\n",
    "  all_images = []\n",
    "  for i in range(amount): \n",
    "    new_trait_image = create_new_image(all_images, config)\n",
    "    all_images.append(new_trait_image)\n",
    "\n",
    "  i = 1\n",
    "  for item in all_images:\n",
    "      item[\"tokenId\"] = i\n",
    "      i += 1\n",
    "\n",
    "  # dump unique images\n",
    "  for i, token in enumerate(all_images):\n",
    "    attributes = []\n",
    "    for key in token:\n",
    "      if key != \"tokenId\":\n",
    "        attributes.append({\"trait_type\": key, \"value\": token[key]})\n",
    "    token_metadata = {\n",
    "        \"image\": config[\"baseURI\"] + \"/images/\" + str(token[\"tokenId\"]) + '.png',\n",
    "        \"tokenId\": token[\"tokenId\"],\n",
    "        \"name\":  config[\"name\"] + str(token[\"tokenId\"]).zfill(pad_amount),\n",
    "        \"description\": config[\"description\"],\n",
    "        \"attributes\": attributes\n",
    "    }\n",
    "    with open('./metadata/' + str(token[\"tokenId\"]) + '.json', 'w') as outfile:\n",
    "        json.dump(token_metadata, outfile, indent=4)\n",
    "\n",
    "  with open('./metadata/all-objects.json', 'w') as outfile:\n",
    "    json.dump(all_images, outfile, indent=4)\n",
    "  \n",
    "  for item in all_images:\n",
    "    layers = []\n",
    "    for index, attr in enumerate(item):\n",
    "      if attr != 'tokenId':\n",
    "        layers.append([])\n",
    "        \n",
    "        if \"/\" in trait_files[attr][item[attr]]:\n",
    "          layers[index] = Image.open(f'{trait_files[attr][item[attr]]}.png').convert('RGBA')\n",
    "        else:\n",
    "          layers[index] = Image.open(f'{config[\"layers\"][index][\"trait_path\"]}/{trait_files[attr][item[attr]]}.png').convert('RGBA')\n",
    "\n",
    "    if len(layers) == 1:\n",
    "      rgb_im = layers[0].convert('RGBA')\n",
    "      file_name = str(item[\"tokenId\"]) + \".png\"\n",
    "      rgb_im.save(\"./images/\" + file_name)\n",
    "    elif len(layers) == 2:\n",
    "      main_composite = Image.alpha_composite(layers[0], layers[1])\n",
    "      rgb_im = main_composite.convert('RGBA')\n",
    "      file_name = str(item[\"tokenId\"]) + \".png\"\n",
    "      rgb_im.save(\"./images/\" + file_name)\n",
    "    elif len(layers) >= 3:\n",
    "      main_composite = Image.alpha_composite(layers[0], layers[1])\n",
    "      layers.pop(0)\n",
    "      layers.pop(0)\n",
    "      for index, remaining in enumerate(layers):\n",
    "        main_composite = Image.alpha_composite(main_composite, remaining)\n",
    "      rgb_im = main_composite.convert('RGBA')\n",
    "      file_name = str(item[\"tokenId\"]) + \".png\"\n",
    "      rgb_im.save(\"./images/\" + file_name)\n",
    "  \n",
    "  all_token_rarity = []\n",
    "  for layer in config[\"layers\"]:\n",
    "    all_token_rarity.append({ layer[\"name\"]: Counter(image[layer[\"name\"]] for image in all_images) })\n",
    "\n",
    "  with open('./metadata/all-rarity.json', 'w') as outfile:\n",
    "    json.dump(all_token_rarity, outfile, indent=4)\n",
    "\n",
    "  \n",
    "  # v1.0.2 addition\n",
    "  print(\"\\nUnique NFT's generated. After uploading images to IPFS, please paste the CID below.\\nYou may hit ENTER or CTRL+C to quit.\")\n",
    "  cid = input(\"IPFS Image CID (): \")\n",
    "  if len(cid) > 0:\n",
    "    if not cid.startswith(\"ipfs://\"):\n",
    "      cid = \"ipfs://{}\".format(cid)\n",
    "    if cid.endswith(\"/\"):\n",
    "      cid = cid[:-1]\n",
    "    for i, item in enumerate(all_images):\n",
    "      with open('./metadata/' + str(item[\"tokenId\"]) + '.json', 'r') as infile:\n",
    "        original_json = json.loads(infile.read())\n",
    "        original_json[\"image\"] = original_json[\"image\"].replace(config[\"baseURI\"]+\"/\", cid+\"/\")\n",
    "        with open('./metadata/' + str(item[\"tokenId\"]) + '.json', 'w') as outfile:\n",
    "          json.dump(original_json, outfile, indent=4)"
   ]
  },
  {
   "cell_type": "code",
   "execution_count": 18,
   "id": "c8cec51c-a231-4466-b43a-398525a73139",
   "metadata": {},
   "outputs": [
    {
     "name": "stderr",
     "output_type": "stream",
     "text": [
      "usage: generate.ipynb [options]\n",
      "generate: error: unrecognized arguments: -f C:\\Users\\AdeebAbdulSalam\\AppData\\Roaming\\jupyter\\runtime\\kernel-b0e32be5-43eb-423c-bf7a-bedb866ae9c4.json\n"
     ]
    },
    {
     "ename": "SystemExit",
     "evalue": "2",
     "output_type": "error",
     "traceback": [
      "An exception has occurred, use %tb to see the full traceback.\n",
      "\u001b[1;31mSystemExit\u001b[0m\u001b[1;31m:\u001b[0m 2\n"
     ]
    }
   ],
   "source": [
    "if __name__== \"__main__\":    \n",
    "    generator = argparse.ArgumentParser(prog='generate', usage='generate.ipynb [options]')\n",
    "\n",
    "    generator.add_argument('-n', '--amount', help=\"Amount to generate\")\n",
    "    generator.add_argument('-c', '--config', help=\"Path to configuration file\")\n",
    "\n",
    "    args = generator.parse_args()\n",
    "\n",
    "    if args.amount and args.config:\n",
    "      if pathExists(args.config):\n",
    "        generate_unique_images(int(args.amount), loadJSON(args.config))\n",
    "      else:\n",
    "        print('generator: error: Configuration file specified doesn\\'t exist.\\n')\n",
    "\n",
    "    else:\n",
    "      print('generator: error: Missing a mandatory option (-n or -c). Use -h to show the help menu.\\n')"
   ]
  },
  {
   "cell_type": "code",
   "execution_count": null,
   "id": "3301291c-9bb8-4126-9b02-ff699485bedf",
   "metadata": {},
   "outputs": [],
   "source": []
  }
 ],
 "metadata": {
  "kernelspec": {
   "display_name": "imageProc",
   "language": "python",
   "name": "pixelart-5m1nrwrv"
  },
  "language_info": {
   "codemirror_mode": {
    "name": "ipython",
    "version": 3
   },
   "file_extension": ".py",
   "mimetype": "text/x-python",
   "name": "python",
   "nbconvert_exporter": "python",
   "pygments_lexer": "ipython3",
   "version": "3.10.4"
  }
 },
 "nbformat": 4,
 "nbformat_minor": 5
}
